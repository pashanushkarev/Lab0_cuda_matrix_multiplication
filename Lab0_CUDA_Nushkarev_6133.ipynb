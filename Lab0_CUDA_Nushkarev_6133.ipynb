{
  "nbformat": 4,
  "nbformat_minor": 0,
  "metadata": {
    "colab": {
      "name": "Lab0_CUDA_Nushkarev_6133.ipynb",
      "provenance": [],
      "collapsed_sections": []
    },
    "kernelspec": {
      "name": "python3",
      "display_name": "Python 3"
    },
    "accelerator": "GPU"
  },
  "cells": [
    {
      "cell_type": "code",
      "metadata": {
        "id": "wh9y7GG53hw7",
        "outputId": "898de51e-c6dd-4843-ecd0-546ee5715477",
        "colab": {
          "base_uri": "https://localhost:8080/",
          "height": 35
        }
      },
      "source": [
        "import pycuda.autoinit\n",
        "\n",
        "from pycuda.tools import make_default_context\n",
        "make_default_context().get_device().name()"
      ],
      "execution_count": 9,
      "outputs": [
        {
          "output_type": "execute_result",
          "data": {
            "application/vnd.google.colaboratory.intrinsic+json": {
              "type": "string"
            },
            "text/plain": [
              "'Tesla T4'"
            ]
          },
          "metadata": {
            "tags": []
          },
          "execution_count": 9
        }
      ]
    },
    {
      "cell_type": "code",
      "metadata": {
        "id": "1RfurY4r3wr6"
      },
      "source": [
        "import numpy as np\n",
        "from numpy import linalg as la\n",
        "from pycuda import driver, compiler, gpuarray, tools\n",
        "import time\n",
        "\n",
        "# -- initialize the device\n",
        "import pycuda.autoinit\n",
        "\n",
        "MATRIX_SIZE = 300\n",
        "\n",
        "def matmul(a_gpu,b_gpu,MATRIX_SIZE=MATRIX_SIZE):\n",
        "    kernel_code_template = \"\"\"\n",
        "    __global__ void MatrixMulKernel(float *A, float *B, float *C)\n",
        "    {\n",
        "\n",
        "      const uint wA = %(MATRIX_SIZE)s;\n",
        "      const uint wB = %(MATRIX_SIZE)s;\n",
        "\n",
        "      const uint bx = blockIdx.x;\n",
        "      const uint by = blockIdx.y;\n",
        "\n",
        "      const uint tx = threadIdx.x;\n",
        "      const uint ty = threadIdx.y;\n",
        "\n",
        "      const uint aBegin = wA * %(BLOCK_SIZE)s * by;\n",
        "      const uint aEnd = aBegin + wA - 1;\n",
        "\n",
        "      const uint aStep = %(BLOCK_SIZE)s;\n",
        "\n",
        "      const uint bBegin = %(BLOCK_SIZE)s * bx;\n",
        "      const uint bStep = %(BLOCK_SIZE)s * wB;\n",
        "\n",
        "      float Csub = 0;\n",
        "\n",
        "      for (int a = aBegin, b = bBegin;\n",
        "           a <= aEnd;\n",
        "           a += aStep, b += bStep)\n",
        "        {\n",
        "\n",
        "          __shared__ float As[%(BLOCK_SIZE)s][%(BLOCK_SIZE)s];\n",
        "\n",
        "          __shared__ float Bs[%(BLOCK_SIZE)s][%(BLOCK_SIZE)s];\n",
        "\n",
        "          As[ty][tx] = A[a + wA * ty + tx];\n",
        "          Bs[ty][tx] = B[b + wB * ty + tx];\n",
        "\n",
        "          __syncthreads();\n",
        "          for (int k = 0; k < %(BLOCK_SIZE)s; ++k)\n",
        "            Csub += As[ty][k] * Bs[k][tx];\n",
        "          __syncthreads();\n",
        "        }\n",
        "\n",
        "      const uint c = wB * %(BLOCK_SIZE)s * by + %(BLOCK_SIZE)s * bx;\n",
        "      C[c + wB * ty + tx] = Csub;\n",
        "    }\n",
        "    \"\"\"\n",
        "\n",
        "    TILE_SIZE = 2\n",
        "    BLOCK_SIZE = TILE_SIZE\n",
        "\n",
        "    kernel_code = kernel_code_template % {\n",
        "        'MATRIX_SIZE': MATRIX_SIZE,\n",
        "        'BLOCK_SIZE': BLOCK_SIZE,\n",
        "        }\n",
        "\n",
        "    mod = compiler.SourceModule(kernel_code)\n",
        "    \n",
        "    c_gpu = gpuarray.empty((MATRIX_SIZE, MATRIX_SIZE), np.float32)\n",
        "\n",
        "    matrixmul = mod.get_function(\"MatrixMulKernel\")\n",
        "\n",
        "    matrixmul(\n",
        "        a_gpu, b_gpu,\n",
        "        c_gpu,\n",
        "        # Сетка для блоков\n",
        "        grid = (MATRIX_SIZE // TILE_SIZE, MATRIX_SIZE // TILE_SIZE),\n",
        "        # Блок из тредов\n",
        "        block = (TILE_SIZE, TILE_SIZE, 1),\n",
        "        )\n",
        "\n",
        "    return c_gpu\n",
        "\n",
        "\n",
        "def matmul_CPU(matrix1, matrix2):\n",
        "    rmatrix = np.zeros(shape=(matrix1.shape[0], matrix2.shape[1]))\n",
        "    for i in range(len(matrix1)):\n",
        "        for j in range(len(matrix2[0])):\n",
        "            for k in range(len(matrix2)):\n",
        "                rmatrix[i][j] += matrix1[i][k] * matrix2[k][j]\n",
        "    return rmatrix"
      ],
      "execution_count": 15,
      "outputs": []
    },
    {
      "cell_type": "markdown",
      "metadata": {
        "id": "ac7_lyjx37Sj"
      },
      "source": [
        "Замер времени умножения матриц 128x128, 256x256, 512x512 и 1024x1024\n",
        "\n",
        "\n"
      ]
    },
    {
      "cell_type": "code",
      "metadata": {
        "id": "2Mp6Fb9q373d",
        "outputId": "099896e5-4c19-4274-9d29-2311f38e234c",
        "colab": {
          "base_uri": "https://localhost:8080/"
        }
      },
      "source": [
        "cpu_time = []\n",
        "gpu_time = []\n",
        "diffs = []\n",
        "\n",
        "for size in [128, 256, 512, 1024]:\n",
        "    a_cpu = np.random.randn(size, size).astype(np.float32)\n",
        "    b_cpu = np.random.randn(size, size).astype(np.float32)\n",
        "\n",
        "    start=time.clock()\n",
        "    c_cpu = matmul_CPU(a_cpu, b_cpu)\n",
        "    end = time.clock()\n",
        "    print(\"size:\", size)\n",
        "    \n",
        "    time_ = end - start\n",
        "    cpu_time.append(time_)\n",
        "    print(\"CPU time:\", time_)\n",
        "\n",
        "    a_gpu = gpuarray.to_gpu(a_cpu)\n",
        "    b_gpu = gpuarray.to_gpu(b_cpu)\n",
        "\n",
        "    start = time.clock()\n",
        "    c_gpu = matmul(a_gpu, b_gpu, size)\n",
        "    end = time.clock()\n",
        "\n",
        "    time_ = end - start\n",
        "    gpu_time.append(time_)\n",
        "    print(\"GPU time:\", time_)\n",
        "\n",
        "    print (\"-\" * 80)\n",
        "    print (\"CPU-GPU difference:\")\n",
        "\n",
        "    diff = sum(sum(c_cpu - c_gpu.get()))\n",
        "    diffs.append(diff)\n",
        "    print(diff)"
      ],
      "execution_count": 17,
      "outputs": [
        {
          "output_type": "stream",
          "text": [
            "size: 128\n",
            "CPU time: 2.598510000000033\n",
            "GPU time: 0.002058000000033644\n",
            "--------------------------------------------------------------------------------\n",
            "CPU-GPU difference:\n",
            "9.301743054379585e-05\n",
            "size: 256\n",
            "CPU time: 20.652914999999894\n",
            "GPU time: 0.005116000000043641\n",
            "--------------------------------------------------------------------------------\n",
            "CPU-GPU difference:\n",
            "-0.001011993295183089\n",
            "size: 512\n",
            "CPU time: 165.90851799999996\n",
            "GPU time: 0.022860000000036962\n",
            "--------------------------------------------------------------------------------\n",
            "CPU-GPU difference:\n",
            "-0.006009181734427216\n",
            "size: 1024\n",
            "CPU time: 1285.541839\n",
            "GPU time: 0.18476400000008653\n",
            "--------------------------------------------------------------------------------\n",
            "CPU-GPU difference:\n",
            "0.014015535383305355\n"
          ],
          "name": "stdout"
        }
      ]
    },
    {
      "cell_type": "code",
      "metadata": {
        "id": "YBs_vKrs4BC5",
        "outputId": "a5faaf01-4f88-4273-946c-482635247e89",
        "colab": {
          "base_uri": "https://localhost:8080/",
          "height": 173
        }
      },
      "source": [
        "import pandas as pd\n",
        "\n",
        "pd.DataFrame({'CPU time': cpu_time, 'GPU time': gpu_time, 'Difference': diffs}, index=[128, 256, 512, 1024])"
      ],
      "execution_count": 23,
      "outputs": [
        {
          "output_type": "execute_result",
          "data": {
            "text/html": [
              "<div>\n",
              "<style scoped>\n",
              "    .dataframe tbody tr th:only-of-type {\n",
              "        vertical-align: middle;\n",
              "    }\n",
              "\n",
              "    .dataframe tbody tr th {\n",
              "        vertical-align: top;\n",
              "    }\n",
              "\n",
              "    .dataframe thead th {\n",
              "        text-align: right;\n",
              "    }\n",
              "</style>\n",
              "<table border=\"1\" class=\"dataframe\">\n",
              "  <thead>\n",
              "    <tr style=\"text-align: right;\">\n",
              "      <th></th>\n",
              "      <th>CPU time</th>\n",
              "      <th>GPU time</th>\n",
              "      <th>Difference</th>\n",
              "    </tr>\n",
              "  </thead>\n",
              "  <tbody>\n",
              "    <tr>\n",
              "      <th>128</th>\n",
              "      <td>2.598510</td>\n",
              "      <td>0.002058</td>\n",
              "      <td>0.000093</td>\n",
              "    </tr>\n",
              "    <tr>\n",
              "      <th>256</th>\n",
              "      <td>20.652915</td>\n",
              "      <td>0.005116</td>\n",
              "      <td>-0.001012</td>\n",
              "    </tr>\n",
              "    <tr>\n",
              "      <th>512</th>\n",
              "      <td>165.908518</td>\n",
              "      <td>0.022860</td>\n",
              "      <td>-0.006009</td>\n",
              "    </tr>\n",
              "    <tr>\n",
              "      <th>1024</th>\n",
              "      <td>1285.541839</td>\n",
              "      <td>0.184764</td>\n",
              "      <td>0.014016</td>\n",
              "    </tr>\n",
              "  </tbody>\n",
              "</table>\n",
              "</div>"
            ],
            "text/plain": [
              "         CPU time  GPU time  Difference\n",
              "128      2.598510  0.002058    0.000093\n",
              "256     20.652915  0.005116   -0.001012\n",
              "512    165.908518  0.022860   -0.006009\n",
              "1024  1285.541839  0.184764    0.014016"
            ]
          },
          "metadata": {
            "tags": []
          },
          "execution_count": 23
        }
      ]
    },
    {
      "cell_type": "markdown",
      "metadata": {
        "id": "vfKjzuSmRHEJ"
      },
      "source": [
        "### Разница во времени"
      ]
    },
    {
      "cell_type": "markdown",
      "metadata": {
        "id": "3e7ELatEb9XB"
      },
      "source": [
        "Матрица 128x128"
      ]
    },
    {
      "cell_type": "code",
      "metadata": {
        "id": "XyX7vrmI4PCe",
        "outputId": "6e1d827d-6a03-4ca7-b999-ab12aeb9b30d",
        "colab": {
          "base_uri": "https://localhost:8080/"
        }
      },
      "source": [
        "cpu_time[0] - gpu_time[0]"
      ],
      "execution_count": 25,
      "outputs": [
        {
          "output_type": "execute_result",
          "data": {
            "text/plain": [
              "2.5964519999999993"
            ]
          },
          "metadata": {
            "tags": []
          },
          "execution_count": 25
        }
      ]
    },
    {
      "cell_type": "markdown",
      "metadata": {
        "id": "Y3wO0on-cINl"
      },
      "source": [
        "Матрица 256x256"
      ]
    },
    {
      "cell_type": "code",
      "metadata": {
        "id": "XvlC0xmNb_b3",
        "outputId": "5b2e004b-1f86-4569-c8e2-24395938307f",
        "colab": {
          "base_uri": "https://localhost:8080/"
        }
      },
      "source": [
        "cpu_time[1] - gpu_time[1]"
      ],
      "execution_count": 26,
      "outputs": [
        {
          "output_type": "execute_result",
          "data": {
            "text/plain": [
              "20.64779899999985"
            ]
          },
          "metadata": {
            "tags": []
          },
          "execution_count": 26
        }
      ]
    },
    {
      "cell_type": "markdown",
      "metadata": {
        "id": "xFH_uzcLcT7Z"
      },
      "source": [
        "Матрица 512x512"
      ]
    },
    {
      "cell_type": "code",
      "metadata": {
        "id": "zhEl_h3Sb_jj",
        "outputId": "c4747011-d7a0-4a95-9f91-953b0da62506",
        "colab": {
          "base_uri": "https://localhost:8080/"
        }
      },
      "source": [
        "cpu_time[2] - gpu_time[2]"
      ],
      "execution_count": 27,
      "outputs": [
        {
          "output_type": "execute_result",
          "data": {
            "text/plain": [
              "165.88565799999992"
            ]
          },
          "metadata": {
            "tags": []
          },
          "execution_count": 27
        }
      ]
    },
    {
      "cell_type": "markdown",
      "metadata": {
        "id": "B8aunvMxcVCH"
      },
      "source": [
        "Матрица 1024x1024"
      ]
    },
    {
      "cell_type": "code",
      "metadata": {
        "id": "F3xIqBXSb_p4",
        "outputId": "a4ef1f65-2f83-41be-f472-623cfe7b503f",
        "colab": {
          "base_uri": "https://localhost:8080/"
        }
      },
      "source": [
        "cpu_time[3] - gpu_time[3]"
      ],
      "execution_count": 28,
      "outputs": [
        {
          "output_type": "execute_result",
          "data": {
            "text/plain": [
              "1285.357075"
            ]
          },
          "metadata": {
            "tags": []
          },
          "execution_count": 28
        }
      ]
    }
  ]
}