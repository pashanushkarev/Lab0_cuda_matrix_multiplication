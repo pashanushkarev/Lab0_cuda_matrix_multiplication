{
  "nbformat": 4,
  "nbformat_minor": 0,
  "metadata": {
    "colab": {
      "name": "Lab0_CUDA_Nushkarev_6133.ipynb",
      "provenance": [],
      "collapsed_sections": []
    },
    "kernelspec": {
      "name": "python3",
      "display_name": "Python 3"
    },
    "accelerator": "GPU"
  },
  "cells": [
    {
      "cell_type": "code",
      "metadata": {
        "id": "wh9y7GG53hw7",
        "outputId": "898de51e-c6dd-4843-ecd0-546ee5715477",
        "colab": {
          "base_uri": "https://localhost:8080/",
          "height": 35
        }
      },
      "source": [
        "import pycuda.autoinit\n",
        "\n",
        "from pycuda.tools import make_default_context\n",
        "make_default_context().get_device().name()"
      ],
      "execution_count": null,
      "outputs": [
        {
          "output_type": "execute_result",
          "data": {
            "application/vnd.google.colaboratory.intrinsic+json": {
              "type": "string"
            },
            "text/plain": [
              "'Tesla T4'"
            ]
          },
          "metadata": {
            "tags": []
          },
          "execution_count": 9
        }
      ]
    },
    {
      "cell_type": "code",
      "metadata": {
        "id": "1RfurY4r3wr6"
      },
      "source": [
        "import numpy as np\n",
        "from numpy import linalg as la\n",
        "from pycuda import driver, compiler, gpuarray, tools\n",
        "import time\n",
        "\n",
        "import pycuda.autoinit\n",
        "\n",
        "MATRIX_SIZE = 300\n",
        "\n",
        "def matmul_GPU(a_gpu,b_gpu,MATRIX_SIZE=MATRIX_SIZE):\n",
        "    kernel_code_template = \"\"\"\n",
        "    __global__ void MatrixMulKernel(float *A, float *B, float *C)\n",
        "    {\n",
        "\n",
        "      const uint wA = %(MATRIX_SIZE)s;\n",
        "      const uint wB = %(MATRIX_SIZE)s;\n",
        "\n",
        "      const uint bx = blockIdx.x;\n",
        "      const uint by = blockIdx.y;\n",
        "\n",
        "      const uint tx = threadIdx.x;\n",
        "      const uint ty = threadIdx.y;\n",
        "\n",
        "      const uint aBegin = wA * %(BLOCK_SIZE)s * by;\n",
        "      const uint aEnd = aBegin + wA - 1;\n",
        "\n",
        "      const uint aStep = %(BLOCK_SIZE)s;\n",
        "\n",
        "      const uint bBegin = %(BLOCK_SIZE)s * bx;\n",
        "      const uint bStep = %(BLOCK_SIZE)s * wB;\n",
        "\n",
        "      float Csub = 0;\n",
        "\n",
        "      for (int a = aBegin, b = bBegin;\n",
        "           a <= aEnd;\n",
        "           a += aStep, b += bStep)\n",
        "        {\n",
        "\n",
        "          __shared__ float As[%(BLOCK_SIZE)s][%(BLOCK_SIZE)s];\n",
        "\n",
        "          __shared__ float Bs[%(BLOCK_SIZE)s][%(BLOCK_SIZE)s];\n",
        "\n",
        "          As[ty][tx] = A[a + wA * ty + tx];\n",
        "          Bs[ty][tx] = B[b + wB * ty + tx];\n",
        "\n",
        "          __syncthreads();\n",
        "          for (int k = 0; k < %(BLOCK_SIZE)s; ++k)\n",
        "            Csub += As[ty][k] * Bs[k][tx];\n",
        "          __syncthreads();\n",
        "        }\n",
        "\n",
        "      const uint c = wB * %(BLOCK_SIZE)s * by + %(BLOCK_SIZE)s * bx;\n",
        "      C[c + wB * ty + tx] = Csub;\n",
        "    }\n",
        "    \"\"\"\n",
        "\n",
        "    TILE_SIZE = 2\n",
        "    BLOCK_SIZE = TILE_SIZE\n",
        "\n",
        "    kernel_code = kernel_code_template % {\n",
        "        'MATRIX_SIZE': MATRIX_SIZE,\n",
        "        'BLOCK_SIZE': BLOCK_SIZE,\n",
        "        }\n",
        "\n",
        "    mod = compiler.SourceModule(kernel_code)\n",
        "    \n",
        "    c_gpu = gpuarray.empty((MATRIX_SIZE, MATRIX_SIZE), np.float32)\n",
        "\n",
        "    matrixmul = mod.get_function(\"MatrixMulKernel\")\n",
        "\n",
        "    matrixmul(\n",
        "        a_gpu, b_gpu,\n",
        "        c_gpu,\n",
        "        grid = (MATRIX_SIZE // TILE_SIZE, MATRIX_SIZE // TILE_SIZE),\n",
        "        block = (TILE_SIZE, TILE_SIZE, 1),\n",
        "        )\n",
        "\n",
        "    return c_gpu\n",
        "\n",
        "\n",
        "def matmul_CPU(matrix1, matrix2):\n",
        "    rmatrix = np.zeros(shape=(matrix1.shape[0], matrix2.shape[1]))\n",
        "    for i in range(len(matrix1)):\n",
        "        for j in range(len(matrix2[0])):\n",
        "            for k in range(len(matrix2)):\n",
        "                rmatrix[i][j] += matrix1[i][k] * matrix2[k][j]\n",
        "    return rmatrix"
      ],
      "execution_count": 49,
      "outputs": []
    },
    {
      "cell_type": "markdown",
      "metadata": {
        "id": "ac7_lyjx37Sj"
      },
      "source": [
        "Замер времени умножения матриц 128x128, 256x256, 512x512 и 1024x1024\n",
        "\n",
        "\n"
      ]
    },
    {
      "cell_type": "code",
      "metadata": {
        "id": "2Mp6Fb9q373d",
        "outputId": "121016d1-1533-4b21-d68a-b207a12bd30c",
        "colab": {
          "base_uri": "https://localhost:8080/"
        }
      },
      "source": [
        "cpu_time = []\n",
        "gpu_time = []\n",
        "diffs = []\n",
        "\n",
        "for size in [128, 256, 512, 1024]:\n",
        "    a_cpu = np.random.randn(size, size).astype(np.float32)\n",
        "    b_cpu = np.random.randn(size, size).astype(np.float32)\n",
        "\n",
        "    print(\"Размерность матрицы:\", size)\n",
        "    \n",
        "    startCPU = time.time()\n",
        "    c_cpu = matmul_CPU(a_cpu, b_cpu)\n",
        "    endCPU = time.time()\n",
        "    timeCPU = endCPU -startCPU\n",
        "\n",
        "    print(\"время на CPU:\", timeCPU)\n",
        "    cpu_time.append(timeCPU)\n",
        "\n",
        "    a_gpu = gpuarray.to_gpu(a_cpu)\n",
        "    b_gpu = gpuarray.to_gpu(b_cpu)\n",
        "\n",
        "    startGPU = time.time()\n",
        "    c_gpu = matmul_GPU(a_gpu, b_gpu, size)\n",
        "    endGPU = time.time()\n",
        "    timeGPU = endGPU-startGPU\n",
        "\n",
        "    print(\"время на GPU:\", timeGPU)\n",
        "    gpu_time.append(timeGPU)\n",
        "\n",
        "    differensetime = timeCPU-timeGPU\n",
        "    print(\"CPU-GPU:\", differensetime)\n",
        "    diffs.append(differensetime)\n",
        "    \n",
        "    print (\"___________________________\")"
      ],
      "execution_count": 50,
      "outputs": [
        {
          "output_type": "stream",
          "text": [
            "Размерность матрицы: 128\n",
            "время на CPU: 2.440417528152466\n",
            "время на GPU: 0.30411243438720703\n",
            "CPU-GPU: 2.136305093765259\n",
            "___________________________\n",
            "Размерность матрицы: 256\n",
            "время на CPU: 19.03043556213379\n",
            "время на GPU: 0.2987957000732422\n",
            "CPU-GPU: 18.731639862060547\n",
            "___________________________\n",
            "Размерность матрицы: 512\n",
            "время на CPU: 156.36971473693848\n",
            "время на GPU: 0.3252756595611572\n",
            "CPU-GPU: 156.04443907737732\n",
            "___________________________\n",
            "Размерность матрицы: 1024\n",
            "время на CPU: 1287.555109500885\n",
            "время на GPU: 0.47460508346557617\n",
            "CPU-GPU: 1287.0805044174194\n",
            "___________________________\n"
          ],
          "name": "stdout"
        }
      ]
    },
    {
      "cell_type": "code",
      "metadata": {
        "id": "YBs_vKrs4BC5",
        "outputId": "e9eb0380-121f-48d5-ec72-784a08dc1df5",
        "colab": {
          "base_uri": "https://localhost:8080/",
          "height": 173
        }
      },
      "source": [
        "import pandas as pd\n",
        "\n",
        "pd.DataFrame({'Время на CPU': cpu_time, 'Время на GPU': gpu_time, 'Разница': diffs}, index=[128, 256, 512, 1024])"
      ],
      "execution_count": 51,
      "outputs": [
        {
          "output_type": "execute_result",
          "data": {
            "text/html": [
              "<div>\n",
              "<style scoped>\n",
              "    .dataframe tbody tr th:only-of-type {\n",
              "        vertical-align: middle;\n",
              "    }\n",
              "\n",
              "    .dataframe tbody tr th {\n",
              "        vertical-align: top;\n",
              "    }\n",
              "\n",
              "    .dataframe thead th {\n",
              "        text-align: right;\n",
              "    }\n",
              "</style>\n",
              "<table border=\"1\" class=\"dataframe\">\n",
              "  <thead>\n",
              "    <tr style=\"text-align: right;\">\n",
              "      <th></th>\n",
              "      <th>Время на CPU</th>\n",
              "      <th>Время на GPU</th>\n",
              "      <th>Разница</th>\n",
              "    </tr>\n",
              "  </thead>\n",
              "  <tbody>\n",
              "    <tr>\n",
              "      <th>128</th>\n",
              "      <td>2.440418</td>\n",
              "      <td>0.304112</td>\n",
              "      <td>2.136305</td>\n",
              "    </tr>\n",
              "    <tr>\n",
              "      <th>256</th>\n",
              "      <td>19.030436</td>\n",
              "      <td>0.298796</td>\n",
              "      <td>18.731640</td>\n",
              "    </tr>\n",
              "    <tr>\n",
              "      <th>512</th>\n",
              "      <td>156.369715</td>\n",
              "      <td>0.325276</td>\n",
              "      <td>156.044439</td>\n",
              "    </tr>\n",
              "    <tr>\n",
              "      <th>1024</th>\n",
              "      <td>1287.555110</td>\n",
              "      <td>0.474605</td>\n",
              "      <td>1287.080504</td>\n",
              "    </tr>\n",
              "  </tbody>\n",
              "</table>\n",
              "</div>"
            ],
            "text/plain": [
              "      Время на CPU  Время на GPU      Разница\n",
              "128       2.440418      0.304112     2.136305\n",
              "256      19.030436      0.298796    18.731640\n",
              "512     156.369715      0.325276   156.044439\n",
              "1024   1287.555110      0.474605  1287.080504"
            ]
          },
          "metadata": {
            "tags": []
          },
          "execution_count": 51
        }
      ]
    }
  ]
}